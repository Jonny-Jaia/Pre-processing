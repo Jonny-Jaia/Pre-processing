{
 "cells": [
  {
   "cell_type": "markdown",
   "metadata": {},
   "source": [
    "# Goal: Examples using Standardisation Normalization, \n",
    "\n",
    "In this notebook we will look at :\n",
    "- Standardization and Normalizations techniques\n",
    "- L1 and L2 norm in Normalization \n",
    "- Normalization along rows and columns\n",
    "\n",
    "Input: Numpy array"
   ]
  },
  {
   "cell_type": "markdown",
   "metadata": {},
   "source": [
    "### Why we normalise or scale data?\n",
    "- Most of the times, your dataset will contain features highly varying in magnitudes, units and range. \n",
    "- But since, most of the machine learning algorithms use Eucledian distance between two data points in their computations, this is a problem.\n",
    "- If left alone, these algorithms only take in the magnitude of features neglecting the units. \n",
    "- The features with high magnitudes will weigh in a lot more in the distance calculations than features with low magnitudes.\n"
   ]
  },
  {
   "cell_type": "code",
   "execution_count": 1,
   "metadata": {
    "collapsed": true
   },
   "outputs": [],
   "source": [
    "import numpy as np"
   ]
  },
  {
   "cell_type": "code",
   "execution_count": 36,
   "metadata": {},
   "outputs": [],
   "source": [
    "npSample = np.array([[1,11],\\\n",
    "                    [0,12]])"
   ]
  },
  {
   "cell_type": "code",
   "execution_count": 3,
   "metadata": {
    "collapsed": true
   },
   "outputs": [],
   "source": [
    "import sklearn.preprocessing as preprocessing"
   ]
  },
  {
   "cell_type": "code",
   "execution_count": 66,
   "metadata": {},
   "outputs": [
    {
     "data": {
      "image/png": "[encoded data removed]",
      "text/plain": [
       "<PIL.PngImagePlugin.PngImageFile image mode=RGB size=236x96 at 0x7F11B8212518>"
      ]
     },
     "execution_count": 66,
     "metadata": {},
     "output_type": "execute_result"
    }
   ],
   "source": [
    "import PIL\n",
    "PIL.Image.open('L2 Norm.png')"
   ]
  },
  {
   "cell_type": "markdown",
   "metadata": {},
   "source": [
    "### Normalization = x -xmin/ xmax – xmin   (... L2 Norm)"
   ]
  },
  {
   "cell_type": "markdown",
   "metadata": {},
   "source": [
    "### Normalization along the Column:"
   ]
  },
  {
   "cell_type": "code",
   "execution_count": 37,
   "metadata": {},
   "outputs": [
    {
     "data": {
      "text/plain": [
       "array([[ 1, 11],\n",
       "       [ 0, 12]])"
      ]
     },
     "execution_count": 37,
     "metadata": {},
     "output_type": "execute_result"
    }
   ],
   "source": [
    "npSample  #input"
   ]
  },
  {
   "cell_type": "code",
   "execution_count": 48,
   "metadata": {},
   "outputs": [
    {
     "data": {
      "text/plain": [
       "array([[1.        , 0.67572463],\n",
       "       [0.        , 0.73715414]])"
      ]
     },
     "execution_count": 48,
     "metadata": {},
     "output_type": "execute_result"
    }
   ],
   "source": [
    "result = preprocessing.normalize(npSample, norm='l2', axis = 0) # along the column. \n",
    "result"
   ]
  },
  {
   "cell_type": "code",
   "execution_count": 50,
   "metadata": {},
   "outputs": [
    {
     "name": "stdout",
     "output_type": "stream",
     "text": [
      "After normalization Addition of 1st Column: 1\n",
      "After normalization Addition of 2nd Column: 1\n"
     ]
    }
   ],
   "source": [
    "print(\"After normalization Addition of 1st Column:\", int(result[:, 0].sum()))\n",
    "print(\"After normalization Addition of 2nd Column:\", int(result[:, 1].sum())) # answers should be = 1 (since scaling in 0-1)"
   ]
  },
  {
   "cell_type": "code",
   "execution_count": 29,
   "metadata": {},
   "outputs": [
    {
     "data": {
      "text/plain": [
       "array([1, 0])"
      ]
     },
     "execution_count": 29,
     "metadata": {},
     "output_type": "execute_result"
    }
   ],
   "source": [
    "npSample[:, 0]   # 1st column"
   ]
  },
  {
   "cell_type": "code",
   "execution_count": 34,
   "metadata": {},
   "outputs": [
    {
     "data": {
      "text/plain": [
       "1.0"
      ]
     },
     "execution_count": 34,
     "metadata": {},
     "output_type": "execute_result"
    }
   ],
   "source": [
    "(npSample[:, 0][0] -  npSample[:, 0].min() )/ (npSample[:, 0].max() - npSample[:, 0].min())  # this is the 1st cell value"
   ]
  },
  {
   "cell_type": "markdown",
   "metadata": {},
   "source": [
    "### Normalization along the row"
   ]
  },
  {
   "cell_type": "code",
   "execution_count": 38,
   "metadata": {},
   "outputs": [
    {
     "data": {
      "text/plain": [
       "array([[ 1, 11],\n",
       "       [ 0, 12]])"
      ]
     },
     "execution_count": 38,
     "metadata": {},
     "output_type": "execute_result"
    }
   ],
   "source": [
    "npSample #input is"
   ]
  },
  {
   "cell_type": "code",
   "execution_count": 43,
   "metadata": {},
   "outputs": [
    {
     "data": {
      "text/plain": [
       "array([[0.09053575, 0.99589321],\n",
       "       [0.        , 1.        ]])"
      ]
     },
     "execution_count": 43,
     "metadata": {},
     "output_type": "execute_result"
    }
   ],
   "source": [
    "result = preprocessing.normalize(npSample, norm='l2', axis = 1)  # along the rows. \n",
    "result"
   ]
  },
  {
   "cell_type": "code",
   "execution_count": 47,
   "metadata": {},
   "outputs": [
    {
     "name": "stdout",
     "output_type": "stream",
     "text": [
      "After normalization Addition of 1st row: 1\n",
      "After normalization Addition of 2nd row: 1\n"
     ]
    }
   ],
   "source": [
    "print(\"After normalization Addition of 1st row:\", int(result[0, :].sum()))\n",
    "print(\"After normalization Addition of 2nd row:\", int(result[1, :].sum()))"
   ]
  },
  {
   "cell_type": "code",
   "execution_count": 30,
   "metadata": {},
   "outputs": [
    {
     "data": {
      "text/plain": [
       "array([ 1, 11])"
      ]
     },
     "execution_count": 30,
     "metadata": {},
     "output_type": "execute_result"
    }
   ],
   "source": [
    "npSample[0, :]   # 1st row"
   ]
  },
  {
   "cell_type": "code",
   "execution_count": 40,
   "metadata": {},
   "outputs": [
    {
     "data": {
      "text/plain": [
       "0.0"
      ]
     },
     "execution_count": 40,
     "metadata": {},
     "output_type": "execute_result"
    }
   ],
   "source": [
    "(npSample[0, :][0] -  npSample[0, :].min() )/ (npSample[0, :].max() - npSample[0, :].min())  # this is the 1st cell value in the output"
   ]
  },
  {
   "cell_type": "code",
   "execution_count": 41,
   "metadata": {},
   "outputs": [
    {
     "data": {
      "text/plain": [
       "1.0"
      ]
     },
     "execution_count": 41,
     "metadata": {},
     "output_type": "execute_result"
    }
   ],
   "source": [
    "(npSample[0, :][1] -  npSample[0, :].min() )/ (npSample[0, :].max() - npSample[0, :].min())  # this is the 2st cell value in the output"
   ]
  },
  {
   "attachments": {},
   "cell_type": "markdown",
   "metadata": {},
   "source": [
    "# Standardisation:\n",
    "- Standardisation replaces the values by their Z scores.\n",
    "- This redistributes the features with their mean μ = 0 and standard deviation σ =1 . \n",
    "- sklearn.preprocessing.StandardScaler helps us implementing standardisation in python.\n",
    "- Z-Score Standardization = x - xmean/ xstd "
   ]
  },
  {
   "cell_type": "code",
   "execution_count": 58,
   "metadata": {},
   "outputs": [
    {
     "data": {
      "text/plain": [
       "array([[ 1, 11],\n",
       "       [ 0, 12]])"
      ]
     },
     "execution_count": 58,
     "metadata": {},
     "output_type": "execute_result"
    }
   ],
   "source": [
    "npSample"
   ]
  },
  {
   "cell_type": "code",
   "execution_count": null,
   "metadata": {
    "collapsed": true
   },
   "outputs": [],
   "source": [
    "sc_new = preprocessing.StandardScaler()\n",
    "sc_new.fit(npSample)\n",
    "result = sc_new.transform(npSample)"
   ]
  },
  {
   "cell_type": "code",
   "execution_count": 64,
   "metadata": {},
   "outputs": [
    {
     "data": {
      "text/plain": [
       "array([[ 1., -1.],\n",
       "       [-1.,  1.]])"
      ]
     },
     "execution_count": 64,
     "metadata": {},
     "output_type": "execute_result"
    }
   ],
   "source": [
    "result"
   ]
  },
  {
   "cell_type": "code",
   "execution_count": 60,
   "metadata": {},
   "outputs": [
    {
     "name": "stdout",
     "output_type": "stream",
     "text": [
      "After Standardization Addition of 1st Column: 0\n",
      "After Standardization Addition of 2nd Column: 0\n"
     ]
    }
   ],
   "source": [
    "print(\"After Standardization Addition of 1st Column:\", int(result[:, 0].sum()))\n",
    "print(\"After Standardization Addition of 2nd Column:\", int(result[:, 1].sum()))  # answer should be 0"
   ]
  },
  {
   "cell_type": "code",
   "execution_count": 7,
   "metadata": {},
   "outputs": [
    {
     "data": {
      "text/plain": [
       "array([[ 1. ,  0.3],\n",
       "       [ 0. ,  0. ],\n",
       "       [12. ,  0.2],\n",
       "       [30. ,  1. ]])"
      ]
     },
     "execution_count": 7,
     "metadata": {},
     "output_type": "execute_result"
    }
   ],
   "source": [
    "npSample2 = np.array([[1,0.3],\\\n",
    "                    [0,0],\n",
    "                     [12, 0.2],\n",
    "                     [30, 1]])\n",
    "npSample2"
   ]
  },
  {
   "cell_type": "code",
   "execution_count": 17,
   "metadata": {},
   "outputs": [
    {
     "data": {
      "text/plain": [
       "12.07010770457331"
      ]
     },
     "execution_count": 17,
     "metadata": {},
     "output_type": "execute_result"
    }
   ],
   "source": [
    "npSample2[:,0].std()   # 1st column std"
   ]
  },
  {
   "cell_type": "code",
   "execution_count": 25,
   "metadata": {},
   "outputs": [
    {
     "data": {
      "text/plain": [
       "-0.8077806958015601"
      ]
     },
     "execution_count": 25,
     "metadata": {},
     "output_type": "execute_result"
    }
   ],
   "source": [
    "(npSample2[:,0][0] - npSample2[:,0].mean())  / npSample2[:,0].std()"
   ]
  },
  {
   "cell_type": "code",
   "execution_count": 52,
   "metadata": {},
   "outputs": [
    {
     "data": {
      "text/plain": [
       "array([[-0.8077807 , -0.19911699],\n",
       "       [-0.89063   , -0.99558497],\n",
       "       [ 0.10356163, -0.46460632],\n",
       "       [ 1.59484907,  1.65930828]])"
      ]
     },
     "execution_count": 52,
     "metadata": {},
     "output_type": "execute_result"
    }
   ],
   "source": [
    "sc_new = preprocessing.StandardScaler()\n",
    "sc_new.fit(npSample2)\n",
    "result = sc_new.transform(npSample2)\n",
    "result"
   ]
  },
  {
   "cell_type": "code",
   "execution_count": 61,
   "metadata": {},
   "outputs": [
    {
     "name": "stdout",
     "output_type": "stream",
     "text": [
      "After Standardization Addition of 1st Column: 0\n",
      "After Standardization Addition of 2nd Column: 0\n"
     ]
    }
   ],
   "source": [
    "print(\"After Standardization Addition of 1st Column:\", int(result[:, 0].sum()))\n",
    "print(\"After Standardization Addition of 2nd Column:\", int(result[:, 1].sum()))  # answer should be 0 since range is (0 to )"
   ]
  },
  {
   "cell_type": "code",
   "execution_count": 11,
   "metadata": {},
   "outputs": [
    {
     "data": {
      "text/plain": [
       "0"
      ]
     },
     "execution_count": 11,
     "metadata": {},
     "output_type": "execute_result"
    }
   ],
   "source": [
    "int(-0.8077807 -0.89063 + 0.10356163 + 1.59484907)  # addition along the column 1"
   ]
  },
  {
   "cell_type": "code",
   "execution_count": 12,
   "metadata": {},
   "outputs": [
    {
     "data": {
      "text/plain": [
       "0"
      ]
     },
     "execution_count": 12,
     "metadata": {},
     "output_type": "execute_result"
    }
   ],
   "source": [
    "int(-0.19911699 -0.99558497 -0.46460632 + 1.65930828)  # addition along the column 2"
   ]
  },
  {
   "cell_type": "markdown",
   "metadata": {},
   "source": [
    "# L1 norm"
   ]
  },
  {
   "cell_type": "markdown",
   "metadata": {},
   "source": [
    "### Trying L1 Norm of Normalization"
   ]
  },
  {
   "cell_type": "code",
   "execution_count": 65,
   "metadata": {},
   "outputs": [
    {
     "data": {
      "image/png": "[encoded data removed]",
      "text/plain": [
       "<PIL.PngImagePlugin.PngImageFile image mode=RGB size=188x68 at 0x7F11B8287668>"
      ]
     },
     "execution_count": 65,
     "metadata": {},
     "output_type": "execute_result"
    }
   ],
   "source": [
    "import PIL\n",
    "PIL.Image.open('L1 Norm.png')"
   ]
  },
  {
   "cell_type": "code",
   "execution_count": 69,
   "metadata": {},
   "outputs": [
    {
     "data": {
      "text/plain": [
       "array([[1.        , 0.47826087],\n",
       "       [0.        , 0.52173913]])"
      ]
     },
     "execution_count": 69,
     "metadata": {},
     "output_type": "execute_result"
    }
   ],
   "source": [
    "npSample = np.array([[1,11],\\\n",
    "                    [0,12]])\n",
    "result3 = preprocessing.normalize(npSample, norm='l1', axis = 0) # along the column. \n",
    "result3"
   ]
  },
  {
   "cell_type": "code",
   "execution_count": 70,
   "metadata": {},
   "outputs": [
    {
     "name": "stdout",
     "output_type": "stream",
     "text": [
      "After normalization Addition of 1st Column: 1\n",
      "After normalization Addition of 2nd Column: 1\n"
     ]
    }
   ],
   "source": [
    "print(\"After normalization Addition of 1st Column:\", int(result3[:, 0].sum()))\n",
    "print(\"After normalization Addition of 2nd Column:\", int(result3[:, 1].sum())) # answers should be = 1 (since scaling in 0-1)"
   ]
  },
  {
   "cell_type": "code",
   "execution_count": null,
   "metadata": {
    "collapsed": true
   },
   "outputs": [],
   "source": []
  }
 ],
 "metadata": {
  "kernelspec": {
   "display_name": "Python3_Keras",
   "language": "python",
   "name": "python3_keras"
  },
  "language_info": {
   "codemirror_mode": {
    "name": "ipython",
    "version": 3
   },
   "file_extension": ".py",
   "mimetype": "text/x-python",
   "name": "python",
   "nbconvert_exporter": "python",
   "pygments_lexer": "ipython3",
   "version": "3.6.3"
  }
 },
 "nbformat": 4,
 "nbformat_minor": 2
}
